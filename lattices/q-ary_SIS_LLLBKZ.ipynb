{
 "cells": [
  {
   "cell_type": "code",
   "execution_count": 29,
   "metadata": {},
   "outputs": [
    {
     "name": "stdout",
     "output_type": "stream",
     "text": [
      "n =  50\n",
      "m =  100\n",
      "q =  2503\n",
      "Number of rows of A (n): 50\n",
      "Number of columns of A (m): 100\n"
     ]
    }
   ],
   "source": [
    "#generate lattice\n",
    "\n",
    "n = 50\n",
    "m = 2*n   #take 2n\n",
    "q = next_prime(n**2) #take prime s.t. q ~ n^2\n",
    "print(\"n = \",n)\n",
    "print(\"m = \",m)\n",
    "print(\"q = \",q)\n",
    "\n",
    "A1 = MatrixSpace(IntegerModRing(q), n, n).random_element()\n",
    "# print(A1)\n",
    "# print('---------------------------')\n",
    "A2 = MatrixSpace(IntegerModRing(q), n, m - n).random_element()\n",
    "# print(A2)\n",
    "# print('---------------------------')\n",
    "A = block_matrix([[A1, A2]])\n",
    "print(\"Number of rows of A (n):\", A.nrows())\n",
    "print(\"Number of columns of A (m):\", A.ncols())\n",
    "A1_inverse = A1.inverse()\n",
    "# print(A1_inverse)"
   ]
  },
  {
   "cell_type": "code",
   "execution_count": 30,
   "metadata": {},
   "outputs": [
    {
     "name": "stdout",
     "output_type": "stream",
     "text": [
      "Number of rows of H (m): 100\n",
      "Number of columns of H (m): 100\n"
     ]
    }
   ],
   "source": [
    "H1 = -A1_inverse * A2\n",
    "H1 = H1.lift()\n",
    "# print(H1)\n",
    "# print('---------------------------')\n",
    "H2 = q * identity_matrix(n)\n",
    "H2 = H2.lift()\n",
    "# print(H2)\n",
    "# print('---------------------------')\n",
    "H3 = identity_matrix(m - n)\n",
    "H3 = H3.lift()\n",
    "# print(H3)\n",
    "# print('---------------------------')\n",
    "H4 = zero_matrix(n)\n",
    "H4 = H4.lift()\n",
    "# print(H4)\n",
    "# print('---------------------------')\n",
    "\n",
    "H_upper = H1.augment(H2)\n",
    "# print(H_upper)\n",
    "H_lower = H3.augment(H4)\n",
    "# print(H_lower)\n",
    "H = H_upper.stack(H_lower)\n",
    "print(\"Number of rows of H (m):\", H.nrows())\n",
    "print(\"Number of columns of H (m):\", H.ncols())\n",
    "# print(H)"
   ]
  },
  {
   "cell_type": "code",
   "execution_count": 31,
   "metadata": {},
   "outputs": [],
   "source": [
    "#LLL Algo\n",
    "H_new = H.dense_matrix()\n",
    "reduced_H = H_new.transpose().LLL()\n",
    "\n",
    "# print(\"Original H:\")\n",
    "# print(H_new)\n",
    "# print('---------------------------')\n",
    "# print(\"Reduced H:\")\n",
    "# print(reduced_H)\n",
    "# print(reduced_H[0])"
   ]
  },
  {
   "cell_type": "code",
   "execution_count": 32,
   "metadata": {},
   "outputs": [
    {
     "name": "stdout",
     "output_type": "stream",
     "text": [
      "397.651857785174\n",
      "119.706599133981\n"
     ]
    }
   ],
   "source": [
    "beta = (sqrt(RR(m)/(2.0*RR.pi()*2.78)))*(RR(q)**(RR(n)/RR(m)))\n",
    "\n",
    "print(reduced_H[0].norm().n())\n",
    "print(beta)"
   ]
  },
  {
   "cell_type": "code",
   "execution_count": 37,
   "metadata": {},
   "outputs": [],
   "source": [
    "#BKZ Algo\n",
    "k = 25\n",
    "reducedBKZ_H = H_new.transpose().BKZ(block_size=k)\n",
    "\n",
    "# print(\"Original H:\")\n",
    "# print(H_new)\n",
    "# print('---------------------------')\n",
    "# print(\"Reduced H:\")\n",
    "# print(reducedBKZ_H)\n",
    "# print(reducedBKZ_H[0])"
   ]
  },
  {
   "cell_type": "code",
   "execution_count": 34,
   "metadata": {},
   "outputs": [
    {
     "name": "stdout",
     "output_type": "stream",
     "text": [
      "k =  10\n",
      "200.349694284768\n",
      "119.706599133981\n"
     ]
    }
   ],
   "source": [
    "beta = (sqrt(RR(m)/(2.0*RR.pi()*2.78)))*(RR(q)**(RR(n)/RR(m)))\n",
    "\n",
    "print(\"k = \", k)\n",
    "print(reducedBKZ_H[0].norm().n())\n",
    "print(beta)"
   ]
  }
 ],
 "metadata": {
  "kernelspec": {
   "display_name": "SageMath 9.3",
   "language": "sage",
   "name": "sagemath"
  },
  "language_info": {
   "codemirror_mode": {
    "name": "ipython",
    "version": 3
   },
   "file_extension": ".py",
   "mimetype": "text/x-python",
   "name": "python",
   "nbconvert_exporter": "python",
   "pygments_lexer": "ipython3",
   "version": "3.7.10"
  }
 },
 "nbformat": 4,
 "nbformat_minor": 4
}
