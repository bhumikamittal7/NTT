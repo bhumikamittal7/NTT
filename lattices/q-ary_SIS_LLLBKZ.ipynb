{
 "cells": [
  {
   "cell_type": "code",
   "execution_count": 19,
   "metadata": {},
   "outputs": [
    {
     "name": "stdout",
     "output_type": "stream",
     "text": [
      "[ 6  8  3]\n",
      "[10  5  5]\n",
      "[ 1 10 10]\n",
      "[8 8 7]\n",
      "[5 7 6]\n",
      "[3 8 3]\n",
      "Number of rows of A (n): 3\n",
      "Number of columns of A (m): 6\n",
      "[ 0  3  4]\n",
      "[ 9 10  0]\n",
      "[ 2  4  3]\n"
     ]
    }
   ],
   "source": [
    "#generate lattice\n",
    "\n",
    "n = 3\n",
    "m = 6   #take 2n\n",
    "q = 11  #take prime s.t. q ~ n^2\n",
    "\n",
    "A1 = MatrixSpace(IntegerModRing(q), n, n).random_element()\n",
    "print(A1)\n",
    "A2 = MatrixSpace(IntegerModRing(q), n, m - n).random_element()\n",
    "print(A2)\n",
    "A = block_matrix([[A1, A2]])\n",
    "print(\"Number of rows of A (n):\", A.nrows())\n",
    "print(\"Number of columns of A (m):\", A.ncols())\n",
    "A1_inverse = A1.inverse()\n",
    "print(A1_inverse)"
   ]
  },
  {
   "cell_type": "code",
   "execution_count": 20,
   "metadata": {},
   "outputs": [
    {
     "name": "stdout",
     "output_type": "stream",
     "text": [
      "H1 =  [ 6  2  3]\n",
      "[10  1  9]\n",
      "[10  9  8]\n",
      "H2 =  [11  0  0]\n",
      "[ 0 11  0]\n",
      "[ 0  0 11]\n",
      "H3 =  [1 0 0]\n",
      "[0 1 0]\n",
      "[0 0 1]\n",
      "H4 =  [0 0 0]\n",
      "[0 0 0]\n",
      "[0 0 0]\n",
      "Number of rows of H (m): 6\n",
      "Number of columns of H (m): 6\n",
      "[ 6  2  3  0  0  0]\n",
      "[10  1  9  0  0  0]\n",
      "[10  9  8  0  0  0]\n",
      "[-----------------]\n",
      "[ 1  0  0  0  0  0]\n",
      "[ 0  1  0  0  0  0]\n",
      "[ 0  0  1  0  0  0]\n"
     ]
    }
   ],
   "source": [
    "H1 = -A1_inverse * A2\n",
    "print(\"H1 = \", H1)\n",
    "H2 = q * identity_matrix(n)\n",
    "print(\"H2 = \", H2)\n",
    "H3 = identity_matrix(m - n)\n",
    "print(\"H3 = \",H3)\n",
    "H4 = zero_matrix(n)\n",
    "print(\"H4 = \",H4)\n",
    "\n",
    "H_upper = block_matrix([[H1, H2]])\n",
    "H_lower = block_matrix([[H3, H4]])\n",
    "H = block_matrix([[H_upper], [H_lower]])\n",
    "print(\"Number of rows of H (m):\", H.nrows())\n",
    "print(\"Number of columns of H (m):\", H.ncols())\n",
    "print(H)"
   ]
  },
  {
   "cell_type": "code",
   "execution_count": null,
   "metadata": {},
   "outputs": [],
   "source": [
    "#define lattice\n",
    "# L = A.right_kernel()\n",
    "# print(L)"
   ]
  },
  {
   "cell_type": "code",
   "execution_count": 21,
   "metadata": {},
   "outputs": [
    {
     "ename": "AttributeError",
     "evalue": "'sage.matrix.matrix_modn_dense_float.Matrix_modn_dense_float' object has no attribute 'LLL'",
     "output_type": "error",
     "traceback": [
      "\u001b[0;31m---------------------------------------------------------------------------\u001b[0m",
      "\u001b[0;31mAttributeError\u001b[0m                            Traceback (most recent call last)",
      "\u001b[0;32m<ipython-input-21-e384d7fb45b2>\u001b[0m in \u001b[0;36m<module>\u001b[0;34m\u001b[0m\n\u001b[1;32m      1\u001b[0m \u001b[0;31m#LLL Algo\u001b[0m\u001b[0;34m\u001b[0m\u001b[0;34m\u001b[0m\u001b[0;34m\u001b[0m\u001b[0m\n\u001b[0;32m----> 2\u001b[0;31m \u001b[0mreduced_H\u001b[0m \u001b[0;34m=\u001b[0m \u001b[0mH\u001b[0m\u001b[0;34m.\u001b[0m\u001b[0mLLL\u001b[0m\u001b[0;34m(\u001b[0m\u001b[0;34m)\u001b[0m\u001b[0;34m\u001b[0m\u001b[0;34m\u001b[0m\u001b[0m\n\u001b[0m\u001b[1;32m      3\u001b[0m \u001b[0;34m\u001b[0m\u001b[0m\n\u001b[1;32m      4\u001b[0m \u001b[0mprint\u001b[0m\u001b[0;34m(\u001b[0m\u001b[0;34m\"Original H:\"\u001b[0m\u001b[0;34m)\u001b[0m\u001b[0;34m\u001b[0m\u001b[0;34m\u001b[0m\u001b[0m\n\u001b[1;32m      5\u001b[0m \u001b[0mprint\u001b[0m\u001b[0;34m(\u001b[0m\u001b[0mH\u001b[0m\u001b[0;34m)\u001b[0m\u001b[0;34m\u001b[0m\u001b[0;34m\u001b[0m\u001b[0m\n",
      "\u001b[0;32m/opt/sagemath-9.3/local/lib/python3.7/site-packages/sage/structure/element.pyx\u001b[0m in \u001b[0;36msage.structure.element.Element.__getattr__ (build/cythonized/sage/structure/element.c:4709)\u001b[0;34m()\u001b[0m\n\u001b[1;32m    491\u001b[0m             \u001b[0mAttributeError\u001b[0m\u001b[0;34m:\u001b[0m \u001b[0;34m'LeftZeroSemigroup_with_category.element_class'\u001b[0m \u001b[0mobject\u001b[0m \u001b[0mhas\u001b[0m \u001b[0mno\u001b[0m \u001b[0mattribute\u001b[0m \u001b[0;34m'blah_blah'\u001b[0m\u001b[0;34m\u001b[0m\u001b[0;34m\u001b[0m\u001b[0m\n\u001b[1;32m    492\u001b[0m         \"\"\"\n\u001b[0;32m--> 493\u001b[0;31m         \u001b[0;32mreturn\u001b[0m \u001b[0mself\u001b[0m\u001b[0;34m.\u001b[0m\u001b[0mgetattr_from_category\u001b[0m\u001b[0;34m(\u001b[0m\u001b[0mname\u001b[0m\u001b[0;34m)\u001b[0m\u001b[0;34m\u001b[0m\u001b[0;34m\u001b[0m\u001b[0m\n\u001b[0m\u001b[1;32m    494\u001b[0m \u001b[0;34m\u001b[0m\u001b[0m\n\u001b[1;32m    495\u001b[0m     \u001b[0mcdef\u001b[0m \u001b[0mgetattr_from_category\u001b[0m\u001b[0;34m(\u001b[0m\u001b[0mself\u001b[0m\u001b[0;34m,\u001b[0m \u001b[0mname\u001b[0m\u001b[0;34m)\u001b[0m\u001b[0;34m:\u001b[0m\u001b[0;34m\u001b[0m\u001b[0;34m\u001b[0m\u001b[0m\n",
      "\u001b[0;32m/opt/sagemath-9.3/local/lib/python3.7/site-packages/sage/structure/element.pyx\u001b[0m in \u001b[0;36msage.structure.element.Element.getattr_from_category (build/cythonized/sage/structure/element.c:4821)\u001b[0;34m()\u001b[0m\n\u001b[1;32m    504\u001b[0m         \u001b[0;32melse\u001b[0m\u001b[0;34m:\u001b[0m\u001b[0;34m\u001b[0m\u001b[0;34m\u001b[0m\u001b[0m\n\u001b[1;32m    505\u001b[0m             \u001b[0mcls\u001b[0m \u001b[0;34m=\u001b[0m \u001b[0mP\u001b[0m\u001b[0;34m.\u001b[0m\u001b[0m_abstract_element_class\u001b[0m\u001b[0;34m\u001b[0m\u001b[0;34m\u001b[0m\u001b[0m\n\u001b[0;32m--> 506\u001b[0;31m         \u001b[0;32mreturn\u001b[0m \u001b[0mgetattr_from_other_class\u001b[0m\u001b[0;34m(\u001b[0m\u001b[0mself\u001b[0m\u001b[0;34m,\u001b[0m \u001b[0mcls\u001b[0m\u001b[0;34m,\u001b[0m \u001b[0mname\u001b[0m\u001b[0;34m)\u001b[0m\u001b[0;34m\u001b[0m\u001b[0;34m\u001b[0m\u001b[0m\n\u001b[0m\u001b[1;32m    507\u001b[0m \u001b[0;34m\u001b[0m\u001b[0m\n\u001b[1;32m    508\u001b[0m     \u001b[0;32mdef\u001b[0m \u001b[0m__dir__\u001b[0m\u001b[0;34m(\u001b[0m\u001b[0mself\u001b[0m\u001b[0;34m)\u001b[0m\u001b[0;34m:\u001b[0m\u001b[0;34m\u001b[0m\u001b[0;34m\u001b[0m\u001b[0m\n",
      "\u001b[0;32m/opt/sagemath-9.3/local/lib/python3.7/site-packages/sage/cpython/getattr.pyx\u001b[0m in \u001b[0;36msage.cpython.getattr.getattr_from_other_class (build/cythonized/sage/cpython/getattr.c:2618)\u001b[0;34m()\u001b[0m\n\u001b[1;32m    370\u001b[0m         \u001b[0mdummy_error_message\u001b[0m\u001b[0;34m.\u001b[0m\u001b[0mcls\u001b[0m \u001b[0;34m=\u001b[0m \u001b[0mtype\u001b[0m\u001b[0;34m(\u001b[0m\u001b[0mself\u001b[0m\u001b[0;34m)\u001b[0m\u001b[0;34m\u001b[0m\u001b[0;34m\u001b[0m\u001b[0m\n\u001b[1;32m    371\u001b[0m         \u001b[0mdummy_error_message\u001b[0m\u001b[0;34m.\u001b[0m\u001b[0mname\u001b[0m \u001b[0;34m=\u001b[0m \u001b[0mname\u001b[0m\u001b[0;34m\u001b[0m\u001b[0;34m\u001b[0m\u001b[0m\n\u001b[0;32m--> 372\u001b[0;31m         \u001b[0;32mraise\u001b[0m \u001b[0mAttributeError\u001b[0m\u001b[0;34m(\u001b[0m\u001b[0mdummy_error_message\u001b[0m\u001b[0;34m)\u001b[0m\u001b[0;34m\u001b[0m\u001b[0;34m\u001b[0m\u001b[0m\n\u001b[0m\u001b[1;32m    373\u001b[0m     \u001b[0mattribute\u001b[0m \u001b[0;34m=\u001b[0m \u001b[0;34m<\u001b[0m\u001b[0mobject\u001b[0m\u001b[0;34m>\u001b[0m\u001b[0mattr\u001b[0m\u001b[0;34m\u001b[0m\u001b[0;34m\u001b[0m\u001b[0m\n\u001b[1;32m    374\u001b[0m     \u001b[0;31m# Check for a descriptor (__get__ in Python)\u001b[0m\u001b[0;34m\u001b[0m\u001b[0;34m\u001b[0m\u001b[0;34m\u001b[0m\u001b[0m\n",
      "\u001b[0;31mAttributeError\u001b[0m: 'sage.matrix.matrix_modn_dense_float.Matrix_modn_dense_float' object has no attribute 'LLL'"
     ]
    }
   ],
   "source": [
    "#LLL Algo\n",
    "reduced_H = H.LLL()\n",
    "\n",
    "print(\"Original H:\")\n",
    "print(H)\n",
    "print(\"===================================================================\")\n",
    "print(\"Reduced H:\")\n",
    "print(reduced_H)"
   ]
  },
  {
   "cell_type": "code",
   "execution_count": 22,
   "metadata": {},
   "outputs": [
    {
     "name": "stdout",
     "output_type": "stream",
     "text": [
      "100 200 10007\n",
      "6582.28782415354\n",
      "338.496837548387\n"
     ]
    }
   ],
   "source": [
    "n=100\n",
    "m=200\n",
    "q = next_prime(n**2)\n",
    "print(n,m,q)\n",
    "\n",
    "seed_value = 137\n",
    "set_random_seed(seed_value)\n",
    "A1 = random_matrix(Zmod(q),n,n)\n",
    "A2 = random_matrix(Zmod(q),n,m-n)\n",
    "A = A1.augment(A2)\n",
    "#print('A matrix')\n",
    "#print(A)\n",
    "#print('---------')\n",
    "\n",
    "beta = (sqrt(RR(m)/(2.0*RR.pi()*2.78)))*(RR(q)**(RR(n)/RR(m)))\n",
    "A1I = A1.inverse()\n",
    "A1IL = A1I.lift()\n",
    "A2L = A2.lift()\n",
    "B1 = -1*A1IL*A2L\n",
    "B2 = q*matrix.identity(ZZ,n,n)\n",
    "B = B1.augment(B2)\n",
    "B3 = matrix.identity(ZZ,m-n,m-n)\n",
    "B4 = matrix.zero(ZZ,m-n,n)\n",
    "BP = B3.augment(B4)\n",
    "H = B.stack(BP)\n",
    "#print 'basis of q-ary lattice defined by A'\n",
    "#print(H)\n",
    "#print(type(H))\n",
    "D = H.dense_matrix()\n",
    "#print(H.det())\n",
    "#print((q**n))\n",
    "#print(A*(D.column(0)))\n",
    "#x = random_matrix(ZZ,m,1)\n",
    "#print(x)\n",
    "#y = D*x\n",
    "#print(y)\n",
    "#w = A*y\n",
    "#print(w)\n",
    "#\n",
    "M = D.transpose().LLL()\n",
    "#print(M)\n",
    "#print(M.det())\n",
    "#print(M[0])\n",
    "#print(A*M[0])\n",
    "#\n",
    "#print(M)\n",
    "print(M[0].norm().n())\n",
    "print(beta)\n",
    "#x = random_matrix(ZZ,m,1)\n",
    "#y = T*x\n",
    "#A = A1.augment(A2)\n",
    "#print(A*y)\n",
    "#x.change_ring(Zmod(7))"
   ]
  }
 ],
 "metadata": {
  "kernelspec": {
   "display_name": "SageMath 9.3",
   "language": "sage",
   "name": "sagemath"
  },
  "language_info": {
   "codemirror_mode": {
    "name": "ipython",
    "version": 3
   },
   "file_extension": ".py",
   "mimetype": "text/x-python",
   "name": "python",
   "nbconvert_exporter": "python",
   "pygments_lexer": "ipython3",
   "version": "3.7.10"
  }
 },
 "nbformat": 4,
 "nbformat_minor": 4
}
