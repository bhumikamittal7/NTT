{
 "cells": [
  {
   "cell_type": "code",
   "execution_count": 146,
   "metadata": {},
   "outputs": [
    {
     "name": "stdout",
     "output_type": "stream",
     "text": [
      "(100, 200, 10007)\n",
      "6582.28782415354\n",
      "338.496837548387\n"
     ]
    }
   ],
   "source": [
    "n=100\n",
    "m=200\n",
    "q = next_prime(n**2)\n",
    "print(n,m,q)\n",
    "seed_value = 137\n",
    "set_random_seed(seed_value)\n",
    "A1 = random_matrix(Zmod(q),n,n)\n",
    "A2 = random_matrix(Zmod(q),n,m-n)\n",
    "A = A1.augment(A2)\n",
    "#print('A matrix')\n",
    "#print(A)\n",
    "#print('---------')\n",
    "beta = (sqrt(RR(m)/(2.0*RR.pi()*2.78)))*(RR(q)**(RR(n)/RR(m)))\n",
    "A1I = A1.inverse()\n",
    "A1IL = A1I.lift()\n",
    "A2L = A2.lift()\n",
    "B1 = -1*A1IL*A2L\n",
    "B2 = q*matrix.identity(ZZ,n,n)\n",
    "B = B1.augment(B2)\n",
    "B3 = matrix.identity(ZZ,m-n,m-n)\n",
    "B4 = matrix.zero(ZZ,m-n,n)\n",
    "BP = B3.augment(B4)\n",
    "H = B.stack(BP)\n",
    "#print 'basis of q-ary lattice defined by A'\n",
    "#print(H)\n",
    "#print(type(H))\n",
    "D = H.dense_matrix()\n",
    "#print(H.det())\n",
    "#print((q**n))\n",
    "#print(A*(D.column(0)))\n",
    "#x = random_matrix(ZZ,m,1)\n",
    "#print(x)\n",
    "#y = D*x\n",
    "#print(y)\n",
    "#w = A*y\n",
    "#print(w)\n",
    "#\n",
    "M = D.transpose().LLL()\n",
    "#print(M)\n",
    "#print(M.det())\n",
    "#print(M[0])\n",
    "#print(A*M[0])\n",
    "#\n",
    "#print(M)\n",
    "print(M[0].norm().n())\n",
    "print(beta)\n",
    "#x = random_matrix(ZZ,m,1)\n",
    "#y = T*x\n",
    "#A = A1.augment(A2)\n",
    "#print(A*y)\n",
    "#x.change_ring(Zmod(7))"
   ]
  },
  {
   "cell_type": "code",
   "execution_count": null,
   "metadata": {},
   "outputs": [],
   "source": []
  }
 ],
 "metadata": {
  "kernelspec": {
   "display_name": "SageMath 8.9",
   "language": "sage",
   "name": "sagemath"
  },
  "language_info": {
   "codemirror_mode": {
    "name": "ipython",
    "version": 2
   },
   "file_extension": ".py",
   "mimetype": "text/x-python",
   "name": "python",
   "nbconvert_exporter": "python",
   "pygments_lexer": "ipython2",
   "version": "2.7.15"
  }
 },
 "nbformat": 4,
 "nbformat_minor": 2
}
